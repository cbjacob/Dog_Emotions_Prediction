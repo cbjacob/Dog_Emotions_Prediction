{
 "cells": [
  {
   "cell_type": "code",
   "execution_count": null,
   "id": "fc266c65",
   "metadata": {},
   "outputs": [],
   "source": [
    "from keras.models import load_model\n",
    "from keras.preprocessing import image\n",
    "import numpy as np\n",
    "# import cv2"
   ]
  },
  {
   "cell_type": "code",
   "execution_count": null,
   "id": "d62e716a",
   "metadata": {},
   "outputs": [],
   "source": [
    "categ = [\"angryboy\", \"goodboy\", 'sleepyboy', 'smileyboy']"
   ]
  },
  {
   "cell_type": "code",
   "execution_count": null,
   "id": "1623fdc9",
   "metadata": {},
   "outputs": [],
   "source": [
    "model = load_model('modelcool100.h5')"
   ]
  },
  {
   "cell_type": "code",
   "execution_count": null,
   "id": "f78f9c6a",
   "metadata": {},
   "outputs": [],
   "source": [
    "img_path = 'C:/UsersWelcomeDogs Emotion Recognition/Dogs_Emotion_Recognition_Dataset/Test/angrydogs/1.jpg'\n",
    "img = image.load_img(img_path, target_size=(150, 150))\n",
    "img_tensor = image.img_to_array(img)\n",
    "img_tensor = np.expand_dims(img_tensor, axis=0)\n",
    "# img_tensor = preprocess_input(img_tensor)\n",
    "img_tensor /= 255.\n",
    "\n",
    "# plt.imshow(img_tensor[0])\n",
    "# plt.show()"
   ]
  },
  {
   "cell_type": "code",
   "execution_count": null,
   "id": "23c5bfe2",
   "metadata": {},
   "outputs": [],
   "source": [
    "# layer_outputs = [layer.output for layer in model.layers[:8]]\n",
    "# activation_model = models.Model(inputs=model.input, outputs=layer_outputs)\n",
    "# activations = activation_model.predict(img_tensor)\n",
    "preds = model.predict(img_tensor)\n",
    "# print(categ[int(preds[0][0])])\n",
    "# x = np.where(preds == np.amax(preds))[0][0]\n",
    "# print(type(np.where(preds == np.amax(preds))[0][0]))\n",
    "x = np.argmax(preds)\n",
    "print(preds)\n",
    "print(categ[x])"
   ]
  }
 ],
 "metadata": {
  "kernelspec": {
   "display_name": "Python 3",
   "language": "python",
   "name": "python3"
  },
  "language_info": {
   "codemirror_mode": {
    "name": "ipython",
    "version": 3
   },
   "file_extension": ".py",
   "mimetype": "text/x-python",
   "name": "python",
   "nbconvert_exporter": "python",
   "pygments_lexer": "ipython3",
   "version": "3.8.8"
  }
 },
 "nbformat": 4,
 "nbformat_minor": 5
}
