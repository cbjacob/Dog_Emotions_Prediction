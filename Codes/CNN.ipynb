{
 "cells": [
  {
   "cell_type": "code",
   "execution_count": 1,
   "id": "218c7ed4",
   "metadata": {},
   "outputs": [],
   "source": [
    "import matplotlib.pyplot as plt\n",
    "import os\n",
    "from keras.preprocessing.image import ImageDataGenerator\n",
    "from keras import optimizers\n",
    "from keras import layers\n",
    "from keras import models\n",
    "from PIL import ImageFile\n",
    "ImageFile.LOAD_TRUNCATED_IMAGES = True"
   ]
  },
  {
   "cell_type": "code",
   "execution_count": 2,
   "id": "cf0d6aae",
   "metadata": {},
   "outputs": [
    {
     "name": "stdout",
     "output_type": "stream",
     "text": [
      "Model: \"sequential\"\n",
      "_________________________________________________________________\n",
      " Layer (type)                Output Shape              Param #   \n",
      "=================================================================\n",
      " conv2d (Conv2D)             (None, 148, 148, 32)      896       \n",
      "                                                                 \n",
      " max_pooling2d (MaxPooling2D  (None, 74, 74, 32)       0         \n",
      " )                                                               \n",
      "                                                                 \n",
      " conv2d_1 (Conv2D)           (None, 72, 72, 64)        18496     \n",
      "                                                                 \n",
      " max_pooling2d_1 (MaxPooling  (None, 36, 36, 64)       0         \n",
      " 2D)                                                             \n",
      "                                                                 \n",
      " conv2d_2 (Conv2D)           (None, 34, 34, 128)       73856     \n",
      "                                                                 \n",
      " max_pooling2d_2 (MaxPooling  (None, 17, 17, 128)      0         \n",
      " 2D)                                                             \n",
      "                                                                 \n",
      " conv2d_3 (Conv2D)           (None, 15, 15, 128)       147584    \n",
      "                                                                 \n",
      " max_pooling2d_3 (MaxPooling  (None, 7, 7, 128)        0         \n",
      " 2D)                                                             \n",
      "                                                                 \n",
      " flatten (Flatten)           (None, 6272)              0         \n",
      "                                                                 \n",
      " dropout (Dropout)           (None, 6272)              0         \n",
      "                                                                 \n",
      " dense (Dense)               (None, 512)               3211776   \n",
      "                                                                 \n",
      " dense_1 (Dense)             (None, 4)                 2052      \n",
      "                                                                 \n",
      "=================================================================\n",
      "Total params: 3,454,660\n",
      "Trainable params: 3,454,660\n",
      "Non-trainable params: 0\n",
      "_________________________________________________________________\n"
     ]
    }
   ],
   "source": [
    "model = models.Sequential()\n",
    "model.add(layers.Conv2D(32, (3, 3),\n",
    "                        activation='relu', input_shape=(150, 150, 3)))\n",
    "model.add(layers.MaxPooling2D((2, 2)))\n",
    "model.add(layers.Conv2D(64, (3, 3), activation='relu'))\n",
    "model.add(layers.MaxPooling2D((2, 2)))\n",
    "model.add(layers.Conv2D(128, (3, 3), activation='relu'))\n",
    "model.add(layers.MaxPooling2D((2, 2)))\n",
    "model.add(layers.Conv2D(128, (3, 3), activation='relu'))\n",
    "model.add(layers.MaxPooling2D((2, 2)))\n",
    "model.add(layers.Flatten())\n",
    "model.add(layers.Dropout(0.5))\n",
    "model.add(layers.Dense(512, activation='relu'))\n",
    "model.add(layers.Dense(4, activation='softmax'))\n",
    "model.summary()"
   ]
  },
  {
   "cell_type": "code",
   "execution_count": 5,
   "id": "700c08ff",
   "metadata": {},
   "outputs": [],
   "source": [
    "model.compile(loss='categorical_crossentropy',\n",
    "              optimizer=optimizers.RMSprop(lr=1e-4), metrics=['acc'])"
   ]
  },
  {
   "cell_type": "code",
   "execution_count": 6,
   "id": "14a586bc",
   "metadata": {},
   "outputs": [],
   "source": [
    "train_datagen = ImageDataGenerator(rescale=1. / 255,\n",
    "                                   rotation_range=40,\n",
    "                                   width_shift_range=0.2,\n",
    "                                   height_shift_range=0.2,\n",
    "                                   shear_range=0.2, zoom_range=0.2,\n",
    "                                   horizontal_flip=True,)"
   ]
  },
  {
   "cell_type": "code",
   "execution_count": 7,
   "id": "85df8b42",
   "metadata": {},
   "outputs": [],
   "source": [
    "test_datagen = ImageDataGenerator(rescale=1. / 255)"
   ]
  },
  {
   "cell_type": "code",
   "execution_count": 8,
   "id": "e9677c85",
   "metadata": {},
   "outputs": [],
   "source": [
    "original_dataset_dir = 'C:/Users/Welcome/Dogs Emotion Recognition/Dogs_Emotion_Recognition_Dataset'\n",
    "base_dir = 'C:/Users/Welcome/Dogs Emotion Recognition/Dogs_Emotion_Recognition_Dataset'\n",
    "# os.mkdir(base_dir)"
   ]
  },
  {
   "cell_type": "code",
   "execution_count": 10,
   "id": "96274ac3",
   "metadata": {},
   "outputs": [],
   "source": [
    "train_dir = os.path.join(base_dir, 'train')\n",
    "# os.mkdir(train_dir)\n",
    "validation_dir = os.path.join(base_dir, 'validation')\n",
    "# os.mkdir(validation_dir)\n",
    "test_dir = os.path.join(base_dir, 'test')"
   ]
  },
  {
   "cell_type": "code",
   "execution_count": 11,
   "id": "d2f666f5",
   "metadata": {},
   "outputs": [
    {
     "name": "stdout",
     "output_type": "stream",
     "text": [
      "Found 1200 images belonging to 4 classes.\n",
      "Found 400 images belonging to 4 classes.\n"
     ]
    }
   ],
   "source": [
    "train_generator = train_datagen.flow_from_directory(\n",
    "    train_dir,\n",
    "    target_size=(150, 150),\n",
    "    batch_size=32,\n",
    "    class_mode='categorical'\n",
    ")\n",
    "validation_generator = test_datagen.flow_from_directory(\n",
    "    validation_dir,\n",
    "    target_size=(150, 150),\n",
    "    batch_size=32,\n",
    "    class_mode='categorical'\n",
    ")"
   ]
  },
  {
   "cell_type": "code",
   "execution_count": 12,
   "id": "a411318b",
   "metadata": {},
   "outputs": [
    {
     "name": "stdout",
     "output_type": "stream",
     "text": [
      "data batch shape:  (32, 150, 150, 3)\n",
      "labels batch shape:  (32, 4)\n"
     ]
    }
   ],
   "source": [
    "for data_batch, labels_batch in train_generator:\n",
    "    print('data batch shape: ', data_batch.shape)\n",
    "    print('labels batch shape: ', labels_batch.shape)\n",
    "    break"
   ]
  },
  {
   "cell_type": "code",
   "execution_count": 13,
   "id": "5fd04919",
   "metadata": {},
   "outputs": [
    {
     "name": "stderr",
     "output_type": "stream",
     "text": [
      "<ipython-input-13-07dfe74bc965>:1: UserWarning: `Model.fit_generator` is deprecated and will be removed in a future version. Please use `Model.fit`, which supports generators.\n",
      "  history = model.fit_generator(\n"
     ]
    },
    {
     "name": "stdout",
     "output_type": "stream",
     "text": [
      "Epoch 1/30\n",
      " 38/100 [==========>...................] - ETA: 2:33 - loss: 1.3800 - acc: 0.2708WARNING:tensorflow:Your input ran out of data; interrupting training. Make sure that your dataset or generator can generate at least `steps_per_epoch * epochs` batches (in this case, 3000 batches). You may need to use the repeat() function when building your dataset.\n",
      "WARNING:tensorflow:Your input ran out of data; interrupting training. Make sure that your dataset or generator can generate at least `steps_per_epoch * epochs` batches (in this case, 50 batches). You may need to use the repeat() function when building your dataset.\n",
      "100/100 [==============================] - 169s 2s/step - loss: 1.3800 - acc: 0.2708 - val_loss: 1.4475 - val_acc: 0.2475\n"
     ]
    }
   ],
   "source": [
    "history = model.fit_generator(\n",
    "    train_generator,\n",
    "    steps_per_epoch=100,\n",
    "    epochs=30,\n",
    "    validation_data=validation_generator,\n",
    "    validation_steps=50\n",
    ")\n",
    "model.save('modelcool30.h5')"
   ]
  },
  {
   "cell_type": "code",
   "execution_count": 15,
   "id": "f5cf7b92",
   "metadata": {},
   "outputs": [
    {
     "name": "stdout",
     "output_type": "stream",
     "text": [
      "Epoch 1/30\n",
      "13/13 [==============================] - 28s 2s/step - loss: 0.7538 - acc: 0.6850 - val_loss: 0.6142 - val_acc: 0.8050\n",
      "Epoch 2/30\n",
      "13/13 [==============================] - 26s 2s/step - loss: 0.6988 - acc: 0.7425 - val_loss: 0.5839 - val_acc: 0.8175\n",
      "Epoch 3/30\n",
      "13/13 [==============================] - 27s 2s/step - loss: 0.6856 - acc: 0.7375 - val_loss: 0.5938 - val_acc: 0.8075\n",
      "Epoch 4/30\n",
      "13/13 [==============================] - 26s 2s/step - loss: 0.6577 - acc: 0.7375 - val_loss: 0.5814 - val_acc: 0.7950\n",
      "Epoch 5/30\n",
      "13/13 [==============================] - 27s 2s/step - loss: 0.6791 - acc: 0.7425 - val_loss: 0.5399 - val_acc: 0.8475\n",
      "Epoch 6/30\n",
      "13/13 [==============================] - 27s 2s/step - loss: 0.5909 - acc: 0.8150 - val_loss: 0.6409 - val_acc: 0.7375\n",
      "Epoch 7/30\n",
      "13/13 [==============================] - 26s 2s/step - loss: 0.6421 - acc: 0.7400 - val_loss: 0.4876 - val_acc: 0.8625\n",
      "Epoch 8/30\n",
      "13/13 [==============================] - 27s 2s/step - loss: 0.5774 - acc: 0.8000 - val_loss: 0.4698 - val_acc: 0.8900\n",
      "Epoch 9/30\n",
      "13/13 [==============================] - 27s 2s/step - loss: 0.5490 - acc: 0.8300 - val_loss: 0.4608 - val_acc: 0.8750\n",
      "Epoch 10/30\n",
      "13/13 [==============================] - 29s 2s/step - loss: 0.5620 - acc: 0.8000 - val_loss: 0.4520 - val_acc: 0.8725\n",
      "Epoch 11/30\n",
      "13/13 [==============================] - 29s 2s/step - loss: 0.5127 - acc: 0.8150 - val_loss: 0.4606 - val_acc: 0.8675\n",
      "Epoch 12/30\n",
      "13/13 [==============================] - 28s 2s/step - loss: 0.4570 - acc: 0.8500 - val_loss: 0.4115 - val_acc: 0.8800\n",
      "Epoch 13/30\n",
      "13/13 [==============================] - 27s 2s/step - loss: 0.5077 - acc: 0.8225 - val_loss: 0.3440 - val_acc: 0.9275\n",
      "Epoch 14/30\n",
      "13/13 [==============================] - 27s 2s/step - loss: 0.4416 - acc: 0.8600 - val_loss: 0.3644 - val_acc: 0.9000\n",
      "Epoch 15/30\n",
      "13/13 [==============================] - 26s 2s/step - loss: 0.4601 - acc: 0.8375 - val_loss: 0.3454 - val_acc: 0.9175\n",
      "Epoch 16/30\n",
      "13/13 [==============================] - 27s 2s/step - loss: 0.4192 - acc: 0.8450 - val_loss: 0.3664 - val_acc: 0.8850\n",
      "Epoch 17/30\n",
      "13/13 [==============================] - 28s 2s/step - loss: 0.3996 - acc: 0.8575 - val_loss: 0.4539 - val_acc: 0.8050\n",
      "Epoch 18/30\n",
      "13/13 [==============================] - 27s 2s/step - loss: 0.3809 - acc: 0.9050 - val_loss: 0.4448 - val_acc: 0.8150\n",
      "Epoch 19/30\n",
      "13/13 [==============================] - 27s 2s/step - loss: 0.3554 - acc: 0.9000 - val_loss: 0.2593 - val_acc: 0.9550\n",
      "Epoch 20/30\n",
      "13/13 [==============================] - 27s 2s/step - loss: 0.3290 - acc: 0.9050 - val_loss: 0.2292 - val_acc: 0.9625\n",
      "Epoch 21/30\n",
      "13/13 [==============================] - 27s 2s/step - loss: 0.3515 - acc: 0.8900 - val_loss: 0.2110 - val_acc: 0.9700\n",
      "Epoch 22/30\n",
      "13/13 [==============================] - 27s 2s/step - loss: 0.2903 - acc: 0.9075 - val_loss: 0.1848 - val_acc: 0.9700\n",
      "Epoch 23/30\n",
      "13/13 [==============================] - 27s 2s/step - loss: 0.2615 - acc: 0.9350 - val_loss: 0.3558 - val_acc: 0.8350\n",
      "Epoch 24/30\n",
      "13/13 [==============================] - 27s 2s/step - loss: 0.2860 - acc: 0.9050 - val_loss: 0.2123 - val_acc: 0.9525\n",
      "Epoch 25/30\n",
      "13/13 [==============================] - 27s 2s/step - loss: 0.2514 - acc: 0.9325 - val_loss: 0.1708 - val_acc: 0.9700\n",
      "Epoch 26/30\n",
      "13/13 [==============================] - 38s 3s/step - loss: 0.2705 - acc: 0.9250 - val_loss: 0.1394 - val_acc: 0.9875\n",
      "Epoch 27/30\n",
      "13/13 [==============================] - 27s 2s/step - loss: 0.2551 - acc: 0.9300 - val_loss: 0.1415 - val_acc: 0.9825\n",
      "Epoch 28/30\n",
      "13/13 [==============================] - 28s 2s/step - loss: 0.2401 - acc: 0.9350 - val_loss: 0.1716 - val_acc: 0.9700\n",
      "Epoch 29/30\n",
      "13/13 [==============================] - 31s 2s/step - loss: 0.2240 - acc: 0.9375 - val_loss: 0.1234 - val_acc: 0.9825\n",
      "Epoch 30/30\n",
      "13/13 [==============================] - 33s 3s/step - loss: 0.2202 - acc: 0.9375 - val_loss: 0.1043 - val_acc: 0.9850\n"
     ]
    }
   ],
   "source": [
    "history = model.fit(validation_generator, validation_data=validation_generator, batch_size=32, epochs=30)\n",
    "# model.fit(\n",
    "    #validation_generator, train_generator,\n",
    "    #epochs=30,\n",
    "    #validation_data=(validation_generator, validation_generator)\n",
    "#)"
   ]
  },
  {
   "cell_type": "code",
   "execution_count": 23,
   "id": "225bd062",
   "metadata": {},
   "outputs": [],
   "source": [
    "acc = history.history['acc']\n",
    "val_acc = history.history['val_acc']\n",
    "loss = history.history['loss']\n",
    "val_loss = history.history['val_loss']"
   ]
  },
  {
   "cell_type": "code",
   "execution_count": 24,
   "id": "e4b43d5a",
   "metadata": {},
   "outputs": [],
   "source": [
    "epochs = range(1, len(acc) + 1)"
   ]
  },
  {
   "cell_type": "code",
   "execution_count": 25,
   "id": "872d0079",
   "metadata": {},
   "outputs": [
    {
     "data": {
      "image/png": "[encoded data removed]",
      "text/plain": [
       "<Figure size 432x288 with 1 Axes>"
      ]
     },
     "metadata": {
      "needs_background": "light"
     },
     "output_type": "display_data"
    },
    {
     "data": {
      "image/png": "[encoded data removed]",
      "text/plain": [
       "<Figure size 432x288 with 1 Axes>"
      ]
     },
     "metadata": {
      "needs_background": "light"
     },
     "output_type": "display_data"
    }
   ],
   "source": [
    "plt.plot(epochs, acc, 'bo', label='Training acc')\n",
    "plt.plot(epochs, val_acc, 'b', label='Validation acc')\n",
    "plt.title('Training and validating loss')\n",
    "plt.legend()\n",
    "\n",
    "plt.figure()\n",
    "\n",
    "plt.plot(epochs, loss, 'bo', label='Training loss')\n",
    "plt.plot(epochs, val_loss, 'b', label='Validation loss')\n",
    "plt.legend()\n",
    "\n",
    "plt.show()"
   ]
  },
  {
   "cell_type": "code",
   "execution_count": null,
   "id": "e1573d7a",
   "metadata": {},
   "outputs": [],
   "source": []
  },
  {
   "cell_type": "code",
   "execution_count": null,
   "id": "f247ab00",
   "metadata": {},
   "outputs": [],
   "source": []
  },
  {
   "cell_type": "code",
   "execution_count": null,
   "id": "420d8957",
   "metadata": {},
   "outputs": [],
   "source": []
  }
 ],
 "metadata": {
  "kernelspec": {
   "display_name": "Python 3",
   "language": "python",
   "name": "python3"
  },
  "language_info": {
   "codemirror_mode": {
    "name": "ipython",
    "version": 3
   },
   "file_extension": ".py",
   "mimetype": "text/x-python",
   "name": "python",
   "nbconvert_exporter": "python",
   "pygments_lexer": "ipython3",
   "version": "3.8.8"
  }
 },
 "nbformat": 4,
 "nbformat_minor": 5
}
