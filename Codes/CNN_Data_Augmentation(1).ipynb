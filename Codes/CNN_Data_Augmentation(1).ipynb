{
 "cells": [
  {
   "cell_type": "code",
   "execution_count": 2,
   "id": "9d9fef61",
   "metadata": {},
   "outputs": [],
   "source": [
    "import matplotlib.pyplot as plt\n",
    "import os\n",
    "from keras.preprocessing.image import ImageDataGenerator\n",
    "from keras import optimizers\n",
    "from keras import layers\n",
    "from keras import models\n",
    "from PIL import ImageFile\n",
    "ImageFile.LOAD_TRUNCATED_IMAGES = True"
   ]
  },
  {
   "cell_type": "code",
   "execution_count": 3,
   "id": "433aca12",
   "metadata": {},
   "outputs": [
    {
     "name": "stdout",
     "output_type": "stream",
     "text": [
      "Model: \"sequential\"\n",
      "_________________________________________________________________\n",
      " Layer (type)                Output Shape              Param #   \n",
      "=================================================================\n",
      " conv2d (Conv2D)             (None, 222, 222, 32)      896       \n",
      "                                                                 \n",
      " max_pooling2d (MaxPooling2D  (None, 111, 111, 32)     0         \n",
      " )                                                               \n",
      "                                                                 \n",
      " conv2d_1 (Conv2D)           (None, 109, 109, 64)      18496     \n",
      "                                                                 \n",
      " max_pooling2d_1 (MaxPooling  (None, 54, 54, 64)       0         \n",
      " 2D)                                                             \n",
      "                                                                 \n",
      " conv2d_2 (Conv2D)           (None, 52, 52, 128)       73856     \n",
      "                                                                 \n",
      " max_pooling2d_2 (MaxPooling  (None, 26, 26, 128)      0         \n",
      " 2D)                                                             \n",
      "                                                                 \n",
      " flatten (Flatten)           (None, 86528)             0         \n",
      "                                                                 \n",
      " dense (Dense)               (None, 512)               44302848  \n",
      "                                                                 \n",
      " dense_1 (Dense)             (None, 4)                 2052      \n",
      "                                                                 \n",
      "=================================================================\n",
      "Total params: 44,398,148\n",
      "Trainable params: 44,398,148\n",
      "Non-trainable params: 0\n",
      "_________________________________________________________________\n"
     ]
    }
   ],
   "source": [
    "model = models.Sequential()\n",
    "model.add(layers.Conv2D(32, (3, 3),\n",
    "                        activation='relu', input_shape=(224, 224, 3)))\n",
    "model.add(layers.MaxPooling2D((2, 2)))\n",
    "model.add(layers.Conv2D(64, (3, 3), activation='relu'))\n",
    "model.add(layers.MaxPooling2D((2, 2)))\n",
    "model.add(layers.Conv2D(128, (3, 3), activation='relu'))\n",
    "model.add(layers.MaxPooling2D((2, 2)))\n",
    "model.add(layers.Flatten())\n",
    "model.add(layers.Dense(512, activation='relu'))\n",
    "model.add(layers.Dense(4, activation='softmax'))\n",
    "model.summary()"
   ]
  },
  {
   "cell_type": "code",
   "execution_count": 7,
   "id": "0db17102",
   "metadata": {},
   "outputs": [],
   "source": [
    "model.compile(loss='categorical_crossentropy',\n",
    "              optimizer=optimizers.RMSprop(lr=1e-4), metrics=['acc'])"
   ]
  },
  {
   "cell_type": "code",
   "execution_count": 8,
   "id": "c42d407d",
   "metadata": {},
   "outputs": [],
   "source": [
    "train_datagen = ImageDataGenerator(\n",
    "    rescale=1. / 255,\n",
    "    rotation_range=40,\n",
    "    width_shift_range=0.2,\n",
    "    shear_range=0.2,\n",
    "    zoom_range=0.2,\n",
    "    horizontal_flip=True)\n",
    "test_datagen = ImageDataGenerator(rescale=1. / 255)"
   ]
  },
  {
   "cell_type": "code",
   "execution_count": 9,
   "id": "3d4d7b40",
   "metadata": {},
   "outputs": [],
   "source": [
    "original_dataset_dir = 'C:/Users/Welcome/Dogs Emotion Recognition/Dogs_Emotion_Recognition_Dataset'\n",
    "base_dir = 'C:/Users/Welcome/Dogs Emotion Recognition/Dogs_Emotion_Recognition_Dataset'\n",
    "# os.mkdir(base_dir)"
   ]
  },
  {
   "cell_type": "code",
   "execution_count": 10,
   "id": "4cbd980d",
   "metadata": {},
   "outputs": [],
   "source": [
    "train_dir = os.path.join(base_dir, 'train')\n",
    "# os.mkdir(train_dir)\n",
    "validation_dir = os.path.join(base_dir, 'validation')\n",
    "# os.mkdir(validation_dir)\n",
    "test_dir = os.path.join(base_dir, 'test')"
   ]
  },
  {
   "cell_type": "code",
   "execution_count": 11,
   "id": "3d73aba2",
   "metadata": {},
   "outputs": [
    {
     "name": "stdout",
     "output_type": "stream",
     "text": [
      "Found 1200 images belonging to 4 classes.\n",
      "Found 400 images belonging to 4 classes.\n",
      "data batch shape:  (32, 224, 224, 3)\n",
      "labels batch shape:  (32, 4)\n"
     ]
    }
   ],
   "source": [
    "train_generator = train_datagen.flow_from_directory(\n",
    "    train_dir,\n",
    "    target_size=(224, 224),\n",
    "    color_mode='rgb',\n",
    "    batch_size=32,\n",
    "    class_mode='categorical'\n",
    ")\n",
    "validation_generator = test_datagen.flow_from_directory(\n",
    "    validation_dir,\n",
    "    target_size=(224, 224),\n",
    "    color_mode='rgb',\n",
    "    batch_size=32,\n",
    "    class_mode='categorical'\n",
    ")\n",
    "\n",
    "for data_batch, labels_batch in train_generator:\n",
    "    print('data batch shape: ', data_batch.shape)\n",
    "    print('labels batch shape: ', labels_batch.shape)\n",
    "    break"
   ]
  },
  {
   "cell_type": "code",
   "execution_count": 12,
   "id": "30da9a0c",
   "metadata": {},
   "outputs": [
    {
     "name": "stdout",
     "output_type": "stream",
     "text": [
      "Epoch 1/30\n",
      " 38/100 [==========>...................] - ETA: 5:41 - loss: 1.6169 - acc: 0.2750WARNING:tensorflow:Your input ran out of data; interrupting training. Make sure that your dataset or generator can generate at least `steps_per_epoch * epochs` batches (in this case, 3000 batches). You may need to use the repeat() function when building your dataset.\n",
      "WARNING:tensorflow:Your input ran out of data; interrupting training. Make sure that your dataset or generator can generate at least `steps_per_epoch * epochs` batches (in this case, 50 batches). You may need to use the repeat() function when building your dataset.\n",
      "100/100 [==============================] - 295s 3s/step - loss: 1.6169 - acc: 0.2750 - val_loss: 1.4691 - val_acc: 0.2500\n"
     ]
    }
   ],
   "source": [
    "history = model.fit(\n",
    "    train_generator,\n",
    "    steps_per_epoch=100,\n",
    "    epochs=30,\n",
    "    validation_data=validation_generator,\n",
    "    validation_steps=50\n",
    ")\n",
    "model.save('doggos_1.h5')"
   ]
  },
  {
   "cell_type": "code",
   "execution_count": 13,
   "id": "619f616b",
   "metadata": {},
   "outputs": [
    {
     "name": "stdout",
     "output_type": "stream",
     "text": [
      "Epoch 1/30\n",
      "13/13 [==============================] - 110s 9s/step - loss: 1.4140 - acc: 0.2375 - val_loss: 1.3505 - val_acc: 0.4350\n",
      "Epoch 2/30\n",
      "13/13 [==============================] - 97s 7s/step - loss: 1.3511 - acc: 0.3350 - val_loss: 1.2922 - val_acc: 0.2975\n",
      "Epoch 3/30\n",
      "13/13 [==============================] - 98s 8s/step - loss: 1.2785 - acc: 0.4675 - val_loss: 1.1462 - val_acc: 0.7450\n",
      "Epoch 4/30\n",
      "13/13 [==============================] - 100s 8s/step - loss: 1.1432 - acc: 0.5325 - val_loss: 1.0358 - val_acc: 0.6475\n",
      "Epoch 5/30\n",
      "13/13 [==============================] - 132s 9s/step - loss: 1.0516 - acc: 0.6275 - val_loss: 0.9382 - val_acc: 0.6675\n",
      "Epoch 6/30\n",
      "13/13 [==============================] - 92s 7s/step - loss: 0.8996 - acc: 0.7450 - val_loss: 0.8709 - val_acc: 0.6675\n",
      "Epoch 7/30\n",
      "13/13 [==============================] - 97s 8s/step - loss: 0.8549 - acc: 0.7075 - val_loss: 0.6648 - val_acc: 0.8875\n",
      "Epoch 8/30\n",
      "13/13 [==============================] - 94s 7s/step - loss: 0.7287 - acc: 0.7750 - val_loss: 0.6040 - val_acc: 0.8875\n",
      "Epoch 9/30\n",
      "13/13 [==============================] - 99s 8s/step - loss: 0.6272 - acc: 0.8350 - val_loss: 0.5243 - val_acc: 0.8925\n",
      "Epoch 10/30\n",
      "13/13 [==============================] - 114s 9s/step - loss: 0.5455 - acc: 0.8725 - val_loss: 0.4218 - val_acc: 0.9625\n",
      "Epoch 11/30\n",
      "13/13 [==============================] - 99s 8s/step - loss: 0.4331 - acc: 0.9100 - val_loss: 0.3270 - val_acc: 0.9700\n",
      "Epoch 12/30\n",
      "13/13 [==============================] - 95s 7s/step - loss: 0.3878 - acc: 0.9225 - val_loss: 0.4462 - val_acc: 0.8300\n",
      "Epoch 13/30\n",
      "13/13 [==============================] - 77s 6s/step - loss: 0.3457 - acc: 0.9200 - val_loss: 0.2662 - val_acc: 0.9575\n",
      "Epoch 14/30\n",
      "13/13 [==============================] - 55s 4s/step - loss: 0.2911 - acc: 0.9325 - val_loss: 0.2106 - val_acc: 0.9950\n",
      "Epoch 15/30\n",
      "13/13 [==============================] - 57s 4s/step - loss: 0.2259 - acc: 0.9700 - val_loss: 0.1999 - val_acc: 0.9850\n",
      "Epoch 16/30\n",
      "13/13 [==============================] - 57s 4s/step - loss: 0.2027 - acc: 0.9600 - val_loss: 0.1254 - val_acc: 0.9975\n",
      "Epoch 17/30\n",
      "13/13 [==============================] - 61s 5s/step - loss: 0.1825 - acc: 0.9600 - val_loss: 0.1098 - val_acc: 0.9975\n",
      "Epoch 18/30\n",
      "13/13 [==============================] - 65s 5s/step - loss: 0.1067 - acc: 0.9950 - val_loss: 0.0753 - val_acc: 1.0000\n",
      "Epoch 19/30\n",
      "13/13 [==============================] - 58s 4s/step - loss: 0.2022 - acc: 0.9325 - val_loss: 0.0773 - val_acc: 0.9975\n",
      "Epoch 20/30\n",
      "13/13 [==============================] - 56s 4s/step - loss: 0.0619 - acc: 1.0000 - val_loss: 0.0774 - val_acc: 1.0000\n",
      "Epoch 21/30\n",
      "13/13 [==============================] - 55s 4s/step - loss: 0.0746 - acc: 0.9950 - val_loss: 0.0411 - val_acc: 1.0000\n",
      "Epoch 22/30\n",
      "13/13 [==============================] - 56s 4s/step - loss: 0.0359 - acc: 1.0000 - val_loss: 0.0666 - val_acc: 1.0000\n",
      "Epoch 23/30\n",
      "13/13 [==============================] - 56s 4s/step - loss: 0.0819 - acc: 0.9825 - val_loss: 0.0234 - val_acc: 1.0000\n",
      "Epoch 24/30\n",
      "13/13 [==============================] - 59s 5s/step - loss: 0.1361 - acc: 0.9575 - val_loss: 0.0593 - val_acc: 1.0000\n",
      "Epoch 25/30\n",
      "13/13 [==============================] - 60s 5s/step - loss: 0.0357 - acc: 1.0000 - val_loss: 0.0183 - val_acc: 1.0000\n",
      "Epoch 26/30\n",
      "13/13 [==============================] - 59s 4s/step - loss: 0.0170 - acc: 1.0000 - val_loss: 0.0262 - val_acc: 1.0000\n",
      "Epoch 27/30\n",
      "13/13 [==============================] - 56s 4s/step - loss: 0.1248 - acc: 0.9700 - val_loss: 0.0194 - val_acc: 1.0000\n",
      "Epoch 28/30\n",
      "13/13 [==============================] - 57s 4s/step - loss: 0.0144 - acc: 1.0000 - val_loss: 0.0098 - val_acc: 1.0000\n",
      "Epoch 29/30\n",
      "13/13 [==============================] - 56s 4s/step - loss: 0.0085 - acc: 1.0000 - val_loss: 0.0070 - val_acc: 1.0000\n",
      "Epoch 30/30\n",
      "13/13 [==============================] - 56s 4s/step - loss: 0.0751 - acc: 0.9725 - val_loss: 0.0141 - val_acc: 1.0000\n"
     ]
    }
   ],
   "source": [
    "history = model.fit(validation_generator, validation_data=validation_generator, batch_size=32, epochs=30)\n",
    "# model.fit(\n",
    "    #validation_generator, train_generator,\n",
    "    #epochs=30,\n",
    "    #validation_data=(validation_generator, validation_generator)\n",
    "#)"
   ]
  },
  {
   "cell_type": "code",
   "execution_count": 15,
   "id": "90186e33",
   "metadata": {},
   "outputs": [],
   "source": [
    "acc = history.history['acc']\n",
    "val_acc = history.history['val_acc']\n",
    "loss = history.history['loss']\n",
    "val_loss = history.history['val_loss']"
   ]
  },
  {
   "cell_type": "code",
   "execution_count": 16,
   "id": "fe442327",
   "metadata": {},
   "outputs": [],
   "source": [
    "epochs = range(1, len(acc) + 1)"
   ]
  },
  {
   "cell_type": "code",
   "execution_count": 18,
   "id": "800d638c",
   "metadata": {},
   "outputs": [
    {
     "data": {
      "image/png": "[encoded data removed]",
      "text/plain": [
       "<Figure size 432x288 with 1 Axes>"
      ]
     },
     "metadata": {
      "needs_background": "light"
     },
     "output_type": "display_data"
    }
   ],
   "source": [
    "plt.plot(epochs, acc, 'bo', label='Training acc')\n",
    "plt.plot(epochs, val_acc, 'b', label='Validation acc')\n",
    "plt.title('Training and validating loss')\n",
    "plt.legend()\n",
    "plt.show()"
   ]
  },
  {
   "cell_type": "code",
   "execution_count": null,
   "id": "4701b8a4",
   "metadata": {},
   "outputs": [],
   "source": []
  }
 ],
 "metadata": {
  "kernelspec": {
   "display_name": "Python 3",
   "language": "python",
   "name": "python3"
  }
 },
 "nbformat": 4,
 "nbformat_minor": 5
}
