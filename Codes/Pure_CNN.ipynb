{
 "cells": [
  {
   "cell_type": "code",
   "execution_count": 1,
   "id": "738f59cf",
   "metadata": {},
   "outputs": [],
   "source": [
    "import matplotlib.pyplot as plt\n",
    "import os\n",
    "from keras.preprocessing.image import ImageDataGenerator\n",
    "from keras import optimizers\n",
    "from keras import layers\n",
    "from keras import models\n",
    "from PIL import ImageFile\n",
    "ImageFile.LOAD_TRUNCATED_IMAGES = True\n"
   ]
  },
  {
   "cell_type": "code",
   "execution_count": 2,
   "id": "cb9fb2d3",
   "metadata": {},
   "outputs": [
    {
     "name": "stdout",
     "output_type": "stream",
     "text": [
      "Model: \"sequential\"\n",
      "_________________________________________________________________\n",
      " Layer (type)                Output Shape              Param #   \n",
      "=================================================================\n",
      " conv2d (Conv2D)             (None, 222, 222, 32)      896       \n",
      "                                                                 \n",
      " max_pooling2d (MaxPooling2D  (None, 111, 111, 32)     0         \n",
      " )                                                               \n",
      "                                                                 \n",
      " conv2d_1 (Conv2D)           (None, 109, 109, 64)      18496     \n",
      "                                                                 \n",
      " max_pooling2d_1 (MaxPooling  (None, 54, 54, 64)       0         \n",
      " 2D)                                                             \n",
      "                                                                 \n",
      " conv2d_2 (Conv2D)           (None, 52, 52, 128)       73856     \n",
      "                                                                 \n",
      " max_pooling2d_2 (MaxPooling  (None, 26, 26, 128)      0         \n",
      " 2D)                                                             \n",
      "                                                                 \n",
      " flatten (Flatten)           (None, 86528)             0         \n",
      "                                                                 \n",
      " dense (Dense)               (None, 512)               44302848  \n",
      "                                                                 \n",
      " dense_1 (Dense)             (None, 4)                 2052      \n",
      "                                                                 \n",
      "=================================================================\n",
      "Total params: 44,398,148\n",
      "Trainable params: 44,398,148\n",
      "Non-trainable params: 0\n",
      "_________________________________________________________________\n"
     ]
    }
   ],
   "source": [
    "model = models.Sequential()\n",
    "model.add(layers.Conv2D(32, (3, 3),\n",
    "                        activation='relu', input_shape=(224, 224, 3)))\n",
    "model.add(layers.MaxPooling2D((2, 2)))\n",
    "model.add(layers.Conv2D(64, (3, 3), activation='relu'))\n",
    "model.add(layers.MaxPooling2D((2, 2)))\n",
    "model.add(layers.Conv2D(128, (3, 3), activation='relu'))\n",
    "model.add(layers.MaxPooling2D((2, 2)))\n",
    "model.add(layers.Flatten())\n",
    "model.add(layers.Dense(512, activation='relu'))\n",
    "model.add(layers.Dense(4, activation='softmax'))\n",
    "model.summary()"
   ]
  },
  {
   "cell_type": "code",
   "execution_count": 4,
   "id": "085e9495",
   "metadata": {},
   "outputs": [],
   "source": [
    "model.compile(loss='categorical_crossentropy',\n",
    "              optimizer=optimizers.RMSprop(lr=1e-4), metrics=['acc'])\n"
   ]
  },
  {
   "cell_type": "code",
   "execution_count": 5,
   "id": "c20cd23d",
   "metadata": {},
   "outputs": [],
   "source": [
    "train_datagen = ImageDataGenerator(rescale=1. / 255)\n",
    "test_datagen = ImageDataGenerator(rescale=1. / 255)"
   ]
  },
  {
   "cell_type": "code",
   "execution_count": 6,
   "id": "5f00bbf7",
   "metadata": {},
   "outputs": [],
   "source": [
    "original_dataset_dir = 'C:/Users/Welcome/Dogs Emotion Recognition/Dogs_Emotion_Recognition_Dataset'\n",
    "base_dir = 'C:/Users/Welcome/Dogs Emotion Recognition/Dogs_Emotion_Recognition_Dataset'\n",
    "# os.mkdir(base_dir)\n"
   ]
  },
  {
   "cell_type": "code",
   "execution_count": 7,
   "id": "425a2d2a",
   "metadata": {},
   "outputs": [],
   "source": [
    "train_dir = os.path.join(base_dir, 'train')\n",
    "# os.mkdir(train_dir)\n",
    "validation_dir = os.path.join(base_dir, 'validation')\n",
    "# os.mkdir(validation_dir)\n",
    "test_dir = os.path.join(base_dir, 'test')"
   ]
  },
  {
   "cell_type": "code",
   "execution_count": 8,
   "id": "09e4673c",
   "metadata": {},
   "outputs": [
    {
     "name": "stdout",
     "output_type": "stream",
     "text": [
      "Found 1200 images belonging to 4 classes.\n",
      "Found 400 images belonging to 4 classes.\n"
     ]
    }
   ],
   "source": [
    "train_generator = train_datagen.flow_from_directory(\n",
    "    train_dir,\n",
    "    target_size=(224, 224),\n",
    "    color_mode='rgb',\n",
    "    batch_size=20,\n",
    "    class_mode='categorical'\n",
    ")\n",
    "validation_generator = test_datagen.flow_from_directory(\n",
    "    validation_dir,\n",
    "    target_size=(224, 224),\n",
    "    color_mode='rgb',\n",
    "    batch_size=20,\n",
    "    class_mode='categorical'\n",
    ")"
   ]
  },
  {
   "cell_type": "code",
   "execution_count": 9,
   "id": "a212878d",
   "metadata": {},
   "outputs": [
    {
     "name": "stdout",
     "output_type": "stream",
     "text": [
      "data batch shape:  (20, 224, 224, 3)\n",
      "labels batch shape:  (20, 4)\n"
     ]
    }
   ],
   "source": [
    "for data_batch, labels_batch in train_generator:\n",
    "    print('data batch shape: ', data_batch.shape)\n",
    "    print('labels batch shape: ', labels_batch.shape)\n",
    "    break"
   ]
  },
  {
   "cell_type": "code",
   "execution_count": 10,
   "id": "e8b9ce20",
   "metadata": {},
   "outputs": [
    {
     "name": "stdout",
     "output_type": "stream",
     "text": [
      "Epoch 1/30\n",
      "60/60 [==============================] - 315s 5s/step - loss: 1.4435 - acc: 0.3000 - val_loss: 1.5139 - val_acc: 0.2300\n",
      "Epoch 2/30\n",
      "60/60 [==============================] - 308s 5s/step - loss: 1.2611 - acc: 0.4408 - val_loss: 1.6663 - val_acc: 0.1900\n",
      "Epoch 3/30\n",
      "60/60 [==============================] - 267s 4s/step - loss: 1.1537 - acc: 0.4975 - val_loss: 1.7174 - val_acc: 0.1775\n",
      "Epoch 4/30\n",
      "60/60 [==============================] - 345s 6s/step - loss: 1.0294 - acc: 0.5767 - val_loss: 1.8802 - val_acc: 0.1750\n",
      "Epoch 5/30\n",
      "60/60 [==============================] - 296s 5s/step - loss: 0.9170 - acc: 0.6558 - val_loss: 1.8928 - val_acc: 0.1725\n",
      "Epoch 6/30\n",
      "60/60 [==============================] - 262s 4s/step - loss: 0.7815 - acc: 0.7308 - val_loss: 2.1986 - val_acc: 0.1825\n",
      "Epoch 7/30\n",
      "60/60 [==============================] - 310s 5s/step - loss: 0.6371 - acc: 0.7958 - val_loss: 2.3556 - val_acc: 0.1900\n",
      "Epoch 8/30\n",
      "60/60 [==============================] - 563s 9s/step - loss: 0.5206 - acc: 0.8483 - val_loss: 2.2833 - val_acc: 0.1750\n",
      "Epoch 9/30\n",
      "60/60 [==============================] - 435s 7s/step - loss: 0.4187 - acc: 0.8892 - val_loss: 2.5764 - val_acc: 0.2000\n",
      "Epoch 10/30\n",
      "60/60 [==============================] - 343s 5s/step - loss: 0.2990 - acc: 0.9208 - val_loss: 2.7410 - val_acc: 0.1700\n",
      "Epoch 11/30\n",
      "60/60 [==============================] - 322s 5s/step - loss: 0.2297 - acc: 0.9558 - val_loss: 3.1886 - val_acc: 0.1900\n",
      "Epoch 12/30\n",
      "60/60 [==============================] - 298s 5s/step - loss: 0.1621 - acc: 0.9750 - val_loss: 3.4940 - val_acc: 0.1900\n",
      "Epoch 13/30\n",
      "60/60 [==============================] - 297s 5s/step - loss: 0.1218 - acc: 0.9792 - val_loss: 3.5148 - val_acc: 0.1900\n",
      "Epoch 14/30\n",
      "60/60 [==============================] - 234s 4s/step - loss: 0.0774 - acc: 0.9850 - val_loss: 3.9362 - val_acc: 0.1925\n",
      "Epoch 15/30\n",
      "60/60 [==============================] - 270s 4s/step - loss: 0.0554 - acc: 0.9875 - val_loss: 4.3263 - val_acc: 0.2000\n",
      "Epoch 16/30\n",
      "60/60 [==============================] - 277s 5s/step - loss: 0.0563 - acc: 0.9875 - val_loss: 3.8902 - val_acc: 0.1825\n",
      "Epoch 17/30\n",
      "60/60 [==============================] - 269s 4s/step - loss: 0.0489 - acc: 0.9892 - val_loss: 4.0341 - val_acc: 0.1950\n",
      "Epoch 18/30\n",
      "60/60 [==============================] - 286s 5s/step - loss: 0.0298 - acc: 0.9942 - val_loss: 4.7809 - val_acc: 0.2000\n",
      "Epoch 19/30\n",
      "60/60 [==============================] - 326s 5s/step - loss: 0.0269 - acc: 0.9900 - val_loss: 5.0406 - val_acc: 0.1900\n",
      "Epoch 20/30\n",
      "60/60 [==============================] - 308s 5s/step - loss: 0.0243 - acc: 0.9917 - val_loss: 5.2135 - val_acc: 0.1875\n",
      "Epoch 21/30\n",
      "60/60 [==============================] - 268s 4s/step - loss: 0.0221 - acc: 0.9917 - val_loss: 5.1233 - val_acc: 0.1850\n",
      "Epoch 22/30\n",
      "60/60 [==============================] - 304s 5s/step - loss: 0.0433 - acc: 0.9900 - val_loss: 5.1533 - val_acc: 0.1925\n",
      "Epoch 23/30\n",
      "60/60 [==============================] - 281s 5s/step - loss: 0.0488 - acc: 0.9833 - val_loss: 4.8026 - val_acc: 0.1850\n",
      "Epoch 24/30\n",
      "60/60 [==============================] - 308s 5s/step - loss: 0.0023 - acc: 1.0000 - val_loss: 6.0368 - val_acc: 0.1925\n",
      "Epoch 25/30\n",
      "60/60 [==============================] - 279s 5s/step - loss: 0.0463 - acc: 0.9917 - val_loss: 5.6923 - val_acc: 0.1900\n",
      "Epoch 26/30\n",
      "60/60 [==============================] - 329s 5s/step - loss: 0.0344 - acc: 0.9917 - val_loss: 5.4525 - val_acc: 0.1850\n",
      "Epoch 27/30\n",
      "60/60 [==============================] - 336s 6s/step - loss: 0.0055 - acc: 0.9992 - val_loss: 5.7427 - val_acc: 0.1925\n",
      "Epoch 28/30\n",
      "60/60 [==============================] - 564s 9s/step - loss: 0.0180 - acc: 0.9950 - val_loss: 5.8927 - val_acc: 0.2000\n",
      "Epoch 29/30\n",
      "60/60 [==============================] - 345s 6s/step - loss: 9.0404e-04 - acc: 1.0000 - val_loss: 6.8205 - val_acc: 0.1850\n",
      "Epoch 30/30\n",
      "60/60 [==============================] - 268s 4s/step - loss: 0.0471 - acc: 0.9917 - val_loss: 5.9085 - val_acc: 0.1850\n"
     ]
    }
   ],
   "source": [
    "history = model.fit(\n",
    "    train_generator,\n",
    "    epochs=30,\n",
    "    validation_data=validation_generator\n",
    ")\n",
    "model.save('doggos_1.h5')"
   ]
  },
  {
   "cell_type": "code",
   "execution_count": 11,
   "id": "46be53b5",
   "metadata": {},
   "outputs": [],
   "source": [
    "acc = history.history['acc']\n",
    "val_acc = history.history['val_acc']\n",
    "loss = history.history['loss']\n",
    "val_loss = history.history['val_loss']\n"
   ]
  },
  {
   "cell_type": "code",
   "execution_count": 12,
   "id": "40f0f496",
   "metadata": {},
   "outputs": [],
   "source": [
    "epochs = range(1, len(acc) + 1)"
   ]
  },
  {
   "cell_type": "code",
   "execution_count": 13,
   "id": "07db8586",
   "metadata": {},
   "outputs": [
    {
     "data": {
      "text/plain": [
       "<Figure size 432x288 with 0 Axes>"
      ]
     },
     "execution_count": 13,
     "metadata": {},
     "output_type": "execute_result"
    },
    {
     "data": {
      "image/png": "[encoded data removed]",
      "text/plain": [
       "<Figure size 432x288 with 1 Axes>"
      ]
     },
     "metadata": {
      "needs_background": "light"
     },
     "output_type": "display_data"
    },
    {
     "data": {
      "text/plain": [
       "<Figure size 432x288 with 0 Axes>"
      ]
     },
     "metadata": {},
     "output_type": "display_data"
    }
   ],
   "source": [
    "plt.plot(epochs, acc, 'bo', label='Training acc')\n",
    "plt.plot(epochs, val_acc, 'b', label='Validation acc')\n",
    "plt.title('Training and validating loss')\n",
    "plt.legend()\n",
    "plt.figure()"
   ]
  },
  {
   "cell_type": "code",
   "execution_count": 14,
   "id": "9150d296",
   "metadata": {},
   "outputs": [
    {
     "data": {
      "image/png": "[encoded data removed]",
      "text/plain": [
       "<Figure size 432x288 with 1 Axes>"
      ]
     },
     "metadata": {
      "needs_background": "light"
     },
     "output_type": "display_data"
    }
   ],
   "source": [
    "plt.plot(epochs, loss, 'bo', label='Training loss')\n",
    "plt.plot(epochs, val_loss, 'b', label='Validation loss')\n",
    "plt.legend()\n",
    "\n",
    "plt.show()"
   ]
  },
  {
   "cell_type": "code",
   "execution_count": null,
   "id": "adf1a2c5",
   "metadata": {},
   "outputs": [],
   "source": []
  }
 ],
 "metadata": {
  "kernelspec": {
   "display_name": "Python 3",
   "language": "python",
   "name": "python3"
  },
  "language_info": {
   "codemirror_mode": {
    "name": "ipython",
    "version": 3
   },
   "file_extension": ".py",
   "mimetype": "text/x-python",
   "name": "python",
   "nbconvert_exporter": "python",
   "pygments_lexer": "ipython3",
   "version": "3.8.8"
  }
 },
 "nbformat": 4,
 "nbformat_minor": 5
}
