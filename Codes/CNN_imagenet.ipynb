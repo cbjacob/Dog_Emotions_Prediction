{
 "cells": [
  {
   "cell_type": "code",
   "execution_count": 1,
   "id": "52f7329b",
   "metadata": {},
   "outputs": [],
   "source": [
    "import matplotlib.pyplot as plt"
   ]
  },
  {
   "cell_type": "code",
   "execution_count": 2,
   "id": "0c69ec68",
   "metadata": {},
   "outputs": [],
   "source": [
    "from keras import optimizers"
   ]
  },
  {
   "cell_type": "code",
   "execution_count": 3,
   "id": "11ee7433",
   "metadata": {},
   "outputs": [],
   "source": [
    "from keras.preprocessing.image import ImageDataGenerator"
   ]
  },
  {
   "cell_type": "code",
   "execution_count": 4,
   "id": "c2d2250c",
   "metadata": {},
   "outputs": [],
   "source": [
    "from keras.applications import VGG16"
   ]
  },
  {
   "cell_type": "code",
   "execution_count": 5,
   "id": "ee970a5d",
   "metadata": {},
   "outputs": [],
   "source": [
    "import numpy as np"
   ]
  },
  {
   "cell_type": "code",
   "execution_count": 6,
   "id": "7b99d45d",
   "metadata": {},
   "outputs": [],
   "source": [
    "import os"
   ]
  },
  {
   "cell_type": "code",
   "execution_count": 7,
   "id": "b0aac3af",
   "metadata": {},
   "outputs": [],
   "source": [
    "from keras import layers"
   ]
  },
  {
   "cell_type": "code",
   "execution_count": 8,
   "id": "42cf70fc",
   "metadata": {},
   "outputs": [],
   "source": [
    "from keras import models\n",
    "from PIL import ImageFile\n",
    "ImageFile.LOAD_TRUNCATED_IMAGES = True"
   ]
  },
  {
   "cell_type": "code",
   "execution_count": 9,
   "id": "7225c54f",
   "metadata": {},
   "outputs": [],
   "source": [
    "conv_base = VGG16(weights='imagenet',\n",
    "                  include_top=False,\n",
    "                  input_shape=(150, 150, 3))"
   ]
  },
  {
   "cell_type": "code",
   "execution_count": 10,
   "id": "ced31bd3",
   "metadata": {},
   "outputs": [],
   "source": [
    "original_dataset_dir = 'C:/Users/Welcome/Dogs Emotion Recognition/Dogs_Emotion_Recognition_Dataset'\n",
    "base_dir = 'C:/Users/Welcome/Dogs Emotion Recognition/Dogs_Emotion_Recognition_Dataset'"
   ]
  },
  {
   "cell_type": "code",
   "execution_count": 11,
   "id": "eb9acf5c",
   "metadata": {},
   "outputs": [],
   "source": [
    "train_dir = os.path.join(base_dir, 'train')\n",
    "validation_dir = os.path.join(base_dir, 'validation')\n",
    "test_dir = os.path.join(base_dir, 'test')"
   ]
  },
  {
   "cell_type": "code",
   "execution_count": 12,
   "id": "2f69f393",
   "metadata": {},
   "outputs": [],
   "source": [
    "datagen = ImageDataGenerator(rescale=1. / 255)\n",
    "batch_size = 20"
   ]
  },
  {
   "cell_type": "code",
   "execution_count": 13,
   "id": "de9672e7",
   "metadata": {},
   "outputs": [],
   "source": [
    "def extract_features(directory, sample_count):\n",
    "    features = np.zeros(shape=(sample_count, 4, 4, 512))\n",
    "    labels = np.zeros(shape=(sample_count, 4))\n",
    "    generator = datagen.flow_from_directory(\n",
    "        directory,\n",
    "        target_size=(150, 150),\n",
    "        batch_size=batch_size,\n",
    "        class_mode='categorical'\n",
    "    )\n",
    "    i = 0\n",
    "    for input_batch, labels_batch in generator:\n",
    "        features_batch = conv_base.predict(input_batch)\n",
    "        features[i * batch_size: (i + 1) * batch_size] = features_batch\n",
    "        labels[i * batch_size: (i + 1) * batch_size] = labels_batch\n",
    "        i += 1\n",
    "        if i * batch_size >= sample_count:\n",
    "            break\n",
    "    return features, labels"
   ]
  },
  {
   "cell_type": "code",
   "execution_count": 14,
   "id": "a73abb72",
   "metadata": {},
   "outputs": [
    {
     "name": "stdout",
     "output_type": "stream",
     "text": [
      "Found 1200 images belonging to 4 classes.\n",
      "1/1 [==============================] - 8s 8s/step\n",
      "1/1 [==============================] - 7s 7s/step\n",
      "1/1 [==============================] - 7s 7s/step\n",
      "1/1 [==============================] - 6s 6s/step\n",
      "1/1 [==============================] - 7s 7s/step\n",
      "1/1 [==============================] - 6s 6s/step\n",
      "1/1 [==============================] - 7s 7s/step\n",
      "1/1 [==============================] - 7s 7s/step\n",
      "1/1 [==============================] - 7s 7s/step\n",
      "1/1 [==============================] - 7s 7s/step\n",
      "1/1 [==============================] - 6s 6s/step\n",
      "1/1 [==============================] - 6s 6s/step\n",
      "1/1 [==============================] - 6s 6s/step\n",
      "1/1 [==============================] - 6s 6s/step\n",
      "1/1 [==============================] - 6s 6s/step\n",
      "Found 400 images belonging to 4 classes.\n",
      "1/1 [==============================] - 6s 6s/step\n",
      "1/1 [==============================] - 6s 6s/step\n",
      "1/1 [==============================] - 6s 6s/step\n",
      "1/1 [==============================] - 6s 6s/step\n",
      "1/1 [==============================] - 6s 6s/step\n",
      "Found 400 images belonging to 4 classes.\n",
      "1/1 [==============================] - 5s 5s/step\n",
      "1/1 [==============================] - 6s 6s/step\n",
      "1/1 [==============================] - 7s 7s/step\n",
      "1/1 [==============================] - 7s 7s/step\n",
      "1/1 [==============================] - 7s 7s/step\n"
     ]
    }
   ],
   "source": [
    "train_features, train_labels = extract_features(train_dir, 300)\n",
    "validation_features, validation_labels = extract_features(validation_dir, 100)\n",
    "test_features, test_labels = extract_features(test_dir, 100)\n"
   ]
  },
  {
   "cell_type": "code",
   "execution_count": 15,
   "id": "56f2119c",
   "metadata": {},
   "outputs": [
    {
     "name": "stderr",
     "output_type": "stream",
     "text": [
      "C:\\Users\\Welcome\\anaconda3\\lib\\site-packages\\keras\\optimizers\\optimizer_v2\\rmsprop.py:135: UserWarning: The `lr` argument is deprecated, use `learning_rate` instead.\n",
      "  super(RMSprop, self).__init__(name, **kwargs)\n"
     ]
    },
    {
     "name": "stdout",
     "output_type": "stream",
     "text": [
      "Epoch 1/30\n",
      "10/10 [==============================] - 4s 187ms/step - loss: 1.7069 - acc: 0.2733 - val_loss: 1.4813 - val_acc: 0.2300\n",
      "Epoch 2/30\n",
      "10/10 [==============================] - 1s 83ms/step - loss: 1.5435 - acc: 0.2833 - val_loss: 1.5042 - val_acc: 0.2300\n",
      "Epoch 3/30\n",
      "10/10 [==============================] - 1s 63ms/step - loss: 1.4534 - acc: 0.3233 - val_loss: 1.5247 - val_acc: 0.2200\n",
      "Epoch 4/30\n",
      "10/10 [==============================] - 1s 61ms/step - loss: 1.3956 - acc: 0.3833 - val_loss: 1.5303 - val_acc: 0.1900\n",
      "Epoch 5/30\n",
      "10/10 [==============================] - 1s 69ms/step - loss: 1.3087 - acc: 0.3667 - val_loss: 1.5516 - val_acc: 0.1700\n",
      "Epoch 6/30\n",
      "10/10 [==============================] - 1s 64ms/step - loss: 1.2852 - acc: 0.3700 - val_loss: 1.5765 - val_acc: 0.1700\n",
      "Epoch 7/30\n",
      "10/10 [==============================] - 1s 70ms/step - loss: 1.3124 - acc: 0.3900 - val_loss: 1.5923 - val_acc: 0.1600\n",
      "Epoch 8/30\n",
      "10/10 [==============================] - 1s 61ms/step - loss: 1.2310 - acc: 0.4600 - val_loss: 1.6197 - val_acc: 0.1300\n",
      "Epoch 9/30\n",
      "10/10 [==============================] - 1s 64ms/step - loss: 1.1744 - acc: 0.4700 - val_loss: 1.6304 - val_acc: 0.1300\n",
      "Epoch 10/30\n",
      "10/10 [==============================] - 1s 72ms/step - loss: 1.1273 - acc: 0.4867 - val_loss: 1.6599 - val_acc: 0.1300\n",
      "Epoch 11/30\n",
      "10/10 [==============================] - 1s 81ms/step - loss: 1.1066 - acc: 0.5167 - val_loss: 1.6773 - val_acc: 0.1000\n",
      "Epoch 12/30\n",
      "10/10 [==============================] - 1s 66ms/step - loss: 1.0466 - acc: 0.5500 - val_loss: 1.7084 - val_acc: 0.1000\n",
      "Epoch 13/30\n",
      "10/10 [==============================] - 1s 64ms/step - loss: 1.0691 - acc: 0.5733 - val_loss: 1.7277 - val_acc: 0.1200\n",
      "Epoch 14/30\n",
      "10/10 [==============================] - 1s 70ms/step - loss: 1.0010 - acc: 0.5733 - val_loss: 1.7408 - val_acc: 0.1000\n",
      "Epoch 15/30\n",
      "10/10 [==============================] - 1s 61ms/step - loss: 0.9820 - acc: 0.6267 - val_loss: 1.7685 - val_acc: 0.1000\n",
      "Epoch 16/30\n",
      "10/10 [==============================] - 1s 68ms/step - loss: 0.9639 - acc: 0.6567 - val_loss: 1.7945 - val_acc: 0.1200\n",
      "Epoch 17/30\n",
      "10/10 [==============================] - 1s 62ms/step - loss: 0.9103 - acc: 0.6467 - val_loss: 1.8083 - val_acc: 0.1000\n",
      "Epoch 18/30\n",
      "10/10 [==============================] - 1s 61ms/step - loss: 0.9289 - acc: 0.6533 - val_loss: 1.8315 - val_acc: 0.1100\n",
      "Epoch 19/30\n",
      "10/10 [==============================] - 1s 68ms/step - loss: 0.9002 - acc: 0.6733 - val_loss: 1.8566 - val_acc: 0.1000\n",
      "Epoch 20/30\n",
      "10/10 [==============================] - 1s 70ms/step - loss: 0.9018 - acc: 0.6800 - val_loss: 1.8614 - val_acc: 0.1200\n",
      "Epoch 21/30\n",
      "10/10 [==============================] - 1s 75ms/step - loss: 0.8751 - acc: 0.6767 - val_loss: 1.8835 - val_acc: 0.1000\n",
      "Epoch 22/30\n",
      "10/10 [==============================] - 1s 74ms/step - loss: 0.8750 - acc: 0.6833 - val_loss: 1.8954 - val_acc: 0.1100\n",
      "Epoch 23/30\n",
      "10/10 [==============================] - 1s 80ms/step - loss: 0.8116 - acc: 0.7367 - val_loss: 1.9168 - val_acc: 0.1000\n",
      "Epoch 24/30\n",
      "10/10 [==============================] - 1s 70ms/step - loss: 0.7990 - acc: 0.7467 - val_loss: 1.9408 - val_acc: 0.0900\n",
      "Epoch 25/30\n",
      "10/10 [==============================] - 1s 68ms/step - loss: 0.7456 - acc: 0.7533 - val_loss: 1.9640 - val_acc: 0.1000\n",
      "Epoch 26/30\n",
      "10/10 [==============================] - 1s 81ms/step - loss: 0.7745 - acc: 0.7567 - val_loss: 1.9689 - val_acc: 0.1100\n",
      "Epoch 27/30\n",
      "10/10 [==============================] - 1s 68ms/step - loss: 0.7599 - acc: 0.7833 - val_loss: 1.9877 - val_acc: 0.1000\n",
      "Epoch 28/30\n",
      "10/10 [==============================] - 1s 76ms/step - loss: 0.7117 - acc: 0.7800 - val_loss: 2.0068 - val_acc: 0.1100\n",
      "Epoch 29/30\n",
      "10/10 [==============================] - 1s 66ms/step - loss: 0.7173 - acc: 0.7800 - val_loss: 2.0326 - val_acc: 0.1100\n",
      "Epoch 30/30\n",
      "10/10 [==============================] - 1s 61ms/step - loss: 0.7113 - acc: 0.7567 - val_loss: 2.0429 - val_acc: 0.1200\n"
     ]
    }
   ],
   "source": [
    "train_features = np.reshape(train_features, (300, 4 * 4 * 512))\n",
    "validation_features = np.reshape(validation_features, (100, 4 * 4 * 512))\n",
    "test_features = np.reshape(test_features, (100, 4 * 4 * 512))\n",
    "\n",
    "\n",
    "model = models.Sequential()\n",
    "model.add(layers.Dense(128, activation='relu', input_dim=4 * 4 * 512))\n",
    "model.add(layers.Dropout(0.5))\n",
    "model.add(layers.Dense(4, activation='softmax'))\n",
    "# model.summary()\n",
    "\n",
    "model.compile(loss='categorical_crossentropy',\n",
    "              optimizer=optimizers.RMSprop(lr=2e-5), metrics=['acc'])\n",
    "\n",
    "history = model.fit(\n",
    "    train_features, train_labels,\n",
    "    epochs=30,\n",
    "    validation_data=(validation_features, validation_labels)\n",
    ")\n",
    "model.save('doggos-imagenet-1.h5')"
   ]
  },
  {
   "cell_type": "code",
   "execution_count": 16,
   "id": "2aa21a25",
   "metadata": {},
   "outputs": [],
   "source": [
    "acc = history.history['acc']\n",
    "val_acc = history.history['val_acc']\n",
    "loss = history.history['loss']\n",
    "val_loss = history.history['val_loss']"
   ]
  },
  {
   "cell_type": "code",
   "execution_count": 17,
   "id": "1c7c2f7b",
   "metadata": {},
   "outputs": [],
   "source": [
    "epochs = range(1, len(acc) + 1)"
   ]
  },
  {
   "cell_type": "code",
   "execution_count": 18,
   "id": "1b53c233",
   "metadata": {},
   "outputs": [
    {
     "data": {
      "text/plain": [
       "<Figure size 432x288 with 0 Axes>"
      ]
     },
     "execution_count": 18,
     "metadata": {},
     "output_type": "execute_result"
    },
    {
     "data": {
      "image/png": "[encoded data removed]",
      "text/plain": [
       "<Figure size 432x288 with 1 Axes>"
      ]
     },
     "metadata": {
      "needs_background": "light"
     },
     "output_type": "display_data"
    },
    {
     "data": {
      "text/plain": [
       "<Figure size 432x288 with 0 Axes>"
      ]
     },
     "metadata": {},
     "output_type": "display_data"
    }
   ],
   "source": [
    "plt.plot(epochs, acc, 'bo', label='Training acc')\n",
    "plt.plot(epochs, val_acc, 'b', label='Validation acc')\n",
    "plt.title('Training and validating loss')\n",
    "plt.legend()\n",
    "plt.figure()"
   ]
  },
  {
   "cell_type": "code",
   "execution_count": 19,
   "id": "fa006b0a",
   "metadata": {},
   "outputs": [
    {
     "data": {
      "image/png": "[encoded data removed]",
      "text/plain": [
       "<Figure size 432x288 with 1 Axes>"
      ]
     },
     "metadata": {
      "needs_background": "light"
     },
     "output_type": "display_data"
    }
   ],
   "source": [
    "plt.plot(epochs, loss, 'bo', label='Training loss')\n",
    "plt.plot(epochs, val_loss, 'b', label='Validation loss')\n",
    "plt.legend()\n",
    "plt.show()"
   ]
  }
 ],
 "metadata": {
  "kernelspec": {
   "display_name": "Python 3",
   "language": "python",
   "name": "python3"
  },
  "language_info": {
   "codemirror_mode": {
    "name": "ipython",
    "version": 3
   },
   "file_extension": ".py",
   "mimetype": "text/x-python",
   "name": "python",
   "nbconvert_exporter": "python",
   "pygments_lexer": "ipython3",
   "version": "3.8.8"
  }
 },
 "nbformat": 4,
 "nbformat_minor": 5
}
